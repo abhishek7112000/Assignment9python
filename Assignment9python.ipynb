{
 "cells": [
  {
   "cell_type": "code",
   "execution_count": null,
   "id": "42f4ec04-b644-46f6-bdf0-41aca37ce850",
   "metadata": {},
   "outputs": [],
   "source": [
    "1. To what does a relative path refer?"
   ]
  },
  {
   "cell_type": "code",
   "execution_count": null,
   "id": "21cf8d88-7c91-4c47-8dec-e5a70fe609c9",
   "metadata": {},
   "outputs": [],
   "source": [
    "ans-A relative path describes the location of a file relative to the current (working) directory.\n"
   ]
  },
  {
   "cell_type": "code",
   "execution_count": null,
   "id": "1e3857e7-ea6b-4142-ba26-7e3a380e645a",
   "metadata": {},
   "outputs": [],
   "source": [
    "2. What does an absolute path start with your operating system?"
   ]
  },
  {
   "cell_type": "code",
   "execution_count": null,
   "id": "d2e2cfd7-a755-456b-9740-bc2c14e889a8",
   "metadata": {},
   "outputs": [],
   "source": [
    "Ans-An absolute path makes no assumptions about your current location in relation to the location of the file or directory it's describing. An absolute path always begins from the absolute start of your hard drive and describes every step you must take through the filesystem to end up at the target location."
   ]
  },
  {
   "cell_type": "code",
   "execution_count": null,
   "id": "3fd23dcb-fcb2-4869-8aad-fdb5870c9249",
   "metadata": {},
   "outputs": [],
   "source": [
    "3. What do the functions os.getcwd() and os.chdir() do?"
   ]
  },
  {
   "cell_type": "code",
   "execution_count": null,
   "id": "087fbc11-9031-4f4b-9687-8e8610444f29",
   "metadata": {},
   "outputs": [],
   "source": [
    "Ans-Check and Set Your Working Directory Using OS\n",
    "getcwd() : CWD stands for Current Working Directory. This function allows you to see what your current working directory is. chdir(\"path-to-dir\") : Short for CHange DIRectory, this function allows you to set the current working directory to a path of your choice"
   ]
  },
  {
   "cell_type": "code",
   "execution_count": null,
   "id": "9836cd3b-7e6c-48d7-86de-11dbd73b5dd4",
   "metadata": {},
   "outputs": [],
   "source": [
    "4. What are the . and .. folders?"
   ]
  },
  {
   "cell_type": "code",
   "execution_count": null,
   "id": "b17809e9-2f38-4160-af7c-675d5f3ba9c6",
   "metadata": {},
   "outputs": [],
   "source": [
    "Ans-A directory is a collection of files and subdirectories. A directory inside a directory is known as a subdirectory. Python has the os module that provides us with many useful methods to work with directories (and files as well)."
   ]
  },
  {
   "cell_type": "code",
   "execution_count": null,
   "id": "c6d189e2-fc44-4bd6-9f6f-4fc04ea013b8",
   "metadata": {},
   "outputs": [],
   "source": [
    "5. In C:\\bacon\\eggs\\spam.txt, which part is the dir name, and which part is the base name?"
   ]
  },
  {
   "cell_type": "code",
   "execution_count": null,
   "id": "1a720ee5-2e5e-413b-98cf-95a7745b64e0",
   "metadata": {},
   "outputs": [],
   "source": [
    "Ans-In C:\\bacon\\eggs\\spam. txt, which part is the dir name, and which part is the base name? C:\\bacon\\eggs is the dir name, while spam. txt is the base name."
   ]
  },
  {
   "cell_type": "code",
   "execution_count": null,
   "id": "091e910c-80de-4471-a398-a89de43c422e",
   "metadata": {},
   "outputs": [],
   "source": [
    "6. What are the three “mode” arguments that can be passed to the open() function?"
   ]
  },
  {
   "cell_type": "code",
   "execution_count": null,
   "id": "4d93dfe4-1a07-4ca7-942f-3c4a755a019b",
   "metadata": {},
   "outputs": [],
   "source": [
    "Ans-"
   ]
  },
  {
   "cell_type": "code",
   "execution_count": null,
   "id": "dd6f5cd9-fd99-4920-a09c-0576df3a6889",
   "metadata": {},
   "outputs": [],
   "source": [
    "7. What happens if an existing file is opened in write mode?"
   ]
  },
  {
   "cell_type": "code",
   "execution_count": null,
   "id": "324c4404-9c51-4946-b095-cb82830f3f05",
   "metadata": {},
   "outputs": [],
   "source": [
    "Ans-"
   ]
  },
  {
   "cell_type": "code",
   "execution_count": null,
   "id": "f94f6d86-2cf6-4a1a-94cd-6783993c3801",
   "metadata": {},
   "outputs": [],
   "source": [
    "8. How do you tell the difference between read() and readlines()?"
   ]
  },
  {
   "cell_type": "code",
   "execution_count": null,
   "id": "e4f9847b-c677-4345-8319-26c86a38bc83",
   "metadata": {},
   "outputs": [],
   "source": [
    "Ans-"
   ]
  },
  {
   "cell_type": "code",
   "execution_count": null,
   "id": "eab9f18e-2e07-490f-98eb-9ede45d54507",
   "metadata": {},
   "outputs": [],
   "source": [
    "9. What data structure does a shelf value resemble?"
   ]
  },
  {
   "cell_type": "code",
   "execution_count": null,
   "id": "2acd039d-6499-4cc7-867d-ac0d0db805d4",
   "metadata": {},
   "outputs": [],
   "source": [
    "Ans-"
   ]
  }
 ],
 "metadata": {
  "kernelspec": {
   "display_name": "Python 3 (ipykernel)",
   "language": "python",
   "name": "python3"
  },
  "language_info": {
   "codemirror_mode": {
    "name": "ipython",
    "version": 3
   },
   "file_extension": ".py",
   "mimetype": "text/x-python",
   "name": "python",
   "nbconvert_exporter": "python",
   "pygments_lexer": "ipython3",
   "version": "3.10.6"
  }
 },
 "nbformat": 4,
 "nbformat_minor": 5
}
